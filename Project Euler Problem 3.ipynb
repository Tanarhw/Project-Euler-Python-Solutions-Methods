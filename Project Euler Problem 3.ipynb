{
 "cells": [
  {
   "cell_type": "markdown",
   "metadata": {},
   "source": [
    "Largest prime factor\n",
    "\n",
    "Problem 3:\n",
    "\n",
    "The prime factors of 13195 are 5, 7, 13 and 29.\n",
    "\n",
    "What is the largest prime factor of the number 600851475143 ?"
   ]
  },
  {
   "cell_type": "markdown",
   "metadata": {},
   "source": [
    "As the integer we intend to factorize is quite large, brute force seems like it will present runtime or memory constraint issues and is therefore not a viable approach. Instead I will attempt to utilize the unique-prime-factorization theorem which states:\n",
    "\n",
    "Every integer $a > 1$ is either a prime itself or can be represented as a unique factorization of a product of primes. \n",
    "\n",
    "We can leverage this theorem by taking the integer $a$ and iteratively dividing out its smallest factor (asserting primality). Subsequently, the last factor that can be divided out will be the largest prime factor of integer $a$."
   ]
  },
  {
   "cell_type": "code",
   "execution_count": 31,
   "metadata": {},
   "outputs": [
    {
     "name": "stdout",
     "output_type": "stream",
     "text": [
      "71\n",
      "839\n",
      "1471\n",
      "6857\n"
     ]
    }
   ],
   "source": [
    "import numpy as np\n",
    "\n",
    "#We first calculate all prime factors of the given integer a\n",
    "def primalFact(a):\n",
    "    \n",
    "    #Start with printing the 2s present\n",
    "    while a % 2 == 0:\n",
    "        print(2)\n",
    "        a = a / 2\n",
    "    \n",
    "    #Since our integer is now an odd number, we will jump by 2\n",
    "    for i in range(3, int(np.sqrt(a)) + 1, 2):\n",
    "        \n",
    "        while a % i == 0:\n",
    "            print(i)\n",
    "            a = a / i\n",
    "            \n",
    "    #Assert primality\n",
    "    if a > 2:\n",
    "        print(a)\n",
    "        \n",
    "primalFact(600851475143)"
   ]
  }
 ],
 "metadata": {
  "kernelspec": {
   "display_name": "Python 3",
   "language": "python",
   "name": "python3"
  },
  "language_info": {
   "codemirror_mode": {
    "name": "ipython",
    "version": 3
   },
   "file_extension": ".py",
   "mimetype": "text/x-python",
   "name": "python",
   "nbconvert_exporter": "python",
   "pygments_lexer": "ipython3",
   "version": "3.7.3"
  }
 },
 "nbformat": 4,
 "nbformat_minor": 2
}
