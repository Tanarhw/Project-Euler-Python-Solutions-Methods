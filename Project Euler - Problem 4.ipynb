{
 "cells": [
  {
   "cell_type": "markdown",
   "metadata": {},
   "source": [
    "## Largest Palidrome Product\n",
    "\n",
    "Problem 4:\n",
    "\n",
    "A palindromic number reads the same both ways. The largest palindrome made from the product of two 2-digit numbers is 9009 = 91 × 99.\n",
    "\n",
    "Find the largest palindrome made from the product of two 3-digit numbers."
   ]
  },
  {
   "cell_type": "markdown",
   "metadata": {},
   "source": [
    "Since the largest 3-digit number is $999$, the largest overall product is $999^{2} = 998001$. Therefore a brute force testing of the products seems computationally feasible for this 3-digit case."
   ]
  },
  {
   "cell_type": "markdown",
   "metadata": {},
   "source": [
    "The algorithm will follow this set of steps:\n",
    "<br>1: define an upper limit for a given n-digit number\n",
    "<br>2: define a lower limit for the given n-digit number\n",
    "<br>3: test all possible products for the largest palindromic product. "
   ]
  },
  {
   "cell_type": "code",
   "execution_count": 3,
   "metadata": {},
   "outputs": [],
   "source": [
    "#The function will be defined to find the largest palidrome product of any n-digit number\n",
    "\n",
    "def largestPalidromeProduct(n):\n",
    "    \n",
    "    upperLimit = 0\n",
    "    lowerLimit = 0\n",
    "    \n",
    "    # Step 1: find upper boundary\n",
    "    for i in range(0, n):\n",
    "        \n",
    "        #Adds n digits\n",
    "        upperLimit = upperLimit * 10\n",
    "        #Increments to the last number satisfying n digits \n",
    "        upperLimit = upperLimit + 9\n",
    "    \n",
    "    #Step 2: find lower boundary\n",
    "    lowerLimit = 1 + lowerLimit // 10\n",
    "    \n",
    "    #Step 3: loop through and test possible products \n",
    "    palProd = 0 \n",
    "    for i in range(upperLimit, lowerLimit - 1, -1):\n",
    "        for j in range(i , lowerLimit - 1, -1):\n",
    "            #compute products\n",
    "            prod = i * j\n",
    "            if (prod < palProd):\n",
    "                break\n",
    "            number = prod\n",
    "            reverse_number = 0\n",
    "            #Check palidrome?\n",
    "            while (number != 0):\n",
    "                \n",
    "                reverse_number = reverse_number * 10 + number % 10\n",
    "                number = number // 10\n",
    "            #store value\n",
    "            if (prod == reverse_number and prod > palProd):\n",
    "                palProd = prod\n",
    "    \n",
    "    return palProd\n",
    "                \n",
    "               "
   ]
  },
  {
   "cell_type": "code",
   "execution_count": 6,
   "metadata": {},
   "outputs": [
    {
     "name": "stdout",
     "output_type": "stream",
     "text": [
      "906609\n"
     ]
    }
   ],
   "source": [
    "#Driver for solution\n",
    "sol = largestPalidromeProduct(3)\n",
    "print(sol)"
   ]
  },
  {
   "cell_type": "code",
   "execution_count": null,
   "metadata": {},
   "outputs": [],
   "source": []
  }
 ],
 "metadata": {
  "kernelspec": {
   "display_name": "Python 3",
   "language": "python",
   "name": "python3"
  },
  "language_info": {
   "codemirror_mode": {
    "name": "ipython",
    "version": 3
   },
   "file_extension": ".py",
   "mimetype": "text/x-python",
   "name": "python",
   "nbconvert_exporter": "python",
   "pygments_lexer": "ipython3",
   "version": "3.7.3"
  }
 },
 "nbformat": 4,
 "nbformat_minor": 2
}
