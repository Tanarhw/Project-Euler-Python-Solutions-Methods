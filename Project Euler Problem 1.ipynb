{
 "cells": [
  {
   "cell_type": "code",
   "execution_count": 1,
   "metadata": {},
   "outputs": [],
   "source": [
    "import numpy as np"
   ]
  },
  {
   "cell_type": "markdown",
   "metadata": {},
   "source": [
    "Multiples of 3 and 5 \n",
    "\n",
    "Problem 1:\n",
    "\n",
    "If we list all the natural numbers below 10 that are multiples of 3 or 5, we get 3, 5, 6 and 9. The sum of these multiples is 23.\n",
    "\n",
    "Find the sum of all the multiples of 3 or 5 below 1000."
   ]
  },
  {
   "cell_type": "code",
   "execution_count": 12,
   "metadata": {},
   "outputs": [
    {
     "name": "stdout",
     "output_type": "stream",
     "text": [
      "233168\n"
     ]
    }
   ],
   "source": [
    "#The trick will be to utilize the modulo operator \n",
    "\n",
    "def prob_1():\n",
    "    \n",
    "    #Create array of multiples\n",
    "    mults = []\n",
    "    for x in range(1000):\n",
    "        if (x % 3 == 0 or x % 5 == 0):\n",
    "            mults.append(x)\n",
    "    \n",
    "  #Sum the multiples to compute the solution
    "    sol = sum(mults)\n",
    "    \n",
    "    return sol\n",
    "\n",
    "if __name__ == \"__main__\":\n",
    "    print(prob_1())"
   ]
  }
 ],
 "metadata": {
  "kernelspec": {
   "display_name": "Python 3",
   "language": "python",
   "name": "python3"
  },
  "language_info": {
   "codemirror_mode": {
    "name": "ipython",
    "version": 3
   },
   "file_extension": ".py",
   "mimetype": "text/x-python",
   "name": "python",
   "nbconvert_exporter": "python",
   "pygments_lexer": "ipython3",
   "version": "3.7.3"
  }
 },
 "nbformat": 4,
 "nbformat_minor": 2
}
